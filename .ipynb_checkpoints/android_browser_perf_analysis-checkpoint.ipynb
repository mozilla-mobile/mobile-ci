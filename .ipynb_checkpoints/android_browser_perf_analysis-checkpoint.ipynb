{
 "cells": [
  {
   "cell_type": "markdown",
   "id": "684c2d1d-6348-41e8-9403-80b7314aa845",
   "metadata": {},
   "source": [
    "# Browser Performance Analysis\n",
    "\n",
    "This notebook analyzes browser performance metrics collected from Chrome and Firefox. We will explore the data, compare performance across browsers, and visualize key metrics to gain insights.\n",
    "\n",
    "**Data Sources:**\n",
    "\n",
    "- `chrome/results/performance_metrics.csv`\n",
    "- `firefox/results/performance_metrics.csv`\n",
    "\n",
    "**Objectives:**\n",
    "\n",
    "- Load and inspect the data.\n",
    "- Clean and preprocess the data.\n",
    "- Perform exploratory data analysis (EDA).\n",
    "- Visualize performance metrics.\n",
    "- Draw conclusions and suggest next steps.\n"
   ]
  },
  {
   "cell_type": "code",
   "execution_count": null,
   "id": "9f9b4eb6-cc43-4b92-877a-6734fa31d001",
   "metadata": {},
   "outputs": [],
   "source": [
    "# Import necessary libraries\n",
    "import os\n",
    "import pandas as pd\n",
    "import numpy as np\n",
    "import matplotlib.pyplot as plt\n",
    "import seaborn as sns\n",
    "\n",
    "# Set visualization style\n",
    "sns.set_style('whitegrid')\n",
    "%matplotlib inline\n"
   ]
  },
  {
   "cell_type": "markdown",
   "id": "15d55c89-6336-4897-9d0b-45717a5e8500",
   "metadata": {},
   "source": [
    "## Loading the Data\n",
    "\n",
    "We will load the performance metrics data from both Chrome and Firefox and combine them into a single DataFrame for analysis.\n"
   ]
  },
  {
   "cell_type": "code",
   "execution_count": null,
   "id": "94497de6-9df7-4248-921c-7555cdf95e5f",
   "metadata": {},
   "outputs": [],
   "source": [
    "# Define the base directory (parent directory of the notebook)\n",
    "base_dir = os.path.abspath('..')  # Adjust as needed\n",
    "\n",
    "# Paths to the data files\n",
    "chrome_csv = os.path.join(base_dir, 'data', 'chrome', 'performance_metrics.csv')\n",
    "firefox_csv = os.path.join(base_dir, 'data', 'firefox', 'performance_metrics.csv')\n",
    "combined_csv = os.path.join(base_dir, 'data', 'combined_results', 'performance_metrics.csv')\n",
    "\n",
    "# Choose whether to use the combined CSV or individual browser CSVs\n",
    "use_combined_csv = False  # Set to True if you want to use the combined CSV\n",
    "\n",
    "if use_combined_csv:\n",
    "    # Load combined data\n",
    "    df = pd.read_csv(combined_csv)\n",
    "else:\n",
    "    # Load data from Chrome and Firefox CSV files\n",
    "    df_chrome = pd.read_csv(chrome_csv)\n",
    "    df_firefox = pd.read_csv(firefox_csv)\n",
    "\n",
    "    # Add a 'browser' column if not already present\n",
    "    if 'browser' not in df_chrome.columns:\n",
    "        df_chrome['browser'] = 'Chrome'\n",
    "    if 'browser' not in df_firefox.columns:\n",
    "        df_firefox['browser'] = 'Firefox'\n",
    "\n",
    "    # Combine DataFrames\n",
    "    df = pd.concat([df_chrome, df_firefox], ignore_index=True)\n",
    "\n",
    "# Display the first few rows\n",
    "df.head()\n"
   ]
  },
  {
   "cell_type": "markdown",
   "id": "bb8b5dbd-7c39-4f2c-8c5c-63ed9717e41a",
   "metadata": {},
   "source": [
    "## Data Inspection\n",
    "\n",
    "Let's inspect the DataFrame to understand the structure and check for any issues.\n"
   ]
  },
  {
   "cell_type": "code",
   "execution_count": null,
   "id": "12270185-aa1a-45e9-b8fa-9d047097b3d7",
   "metadata": {},
   "outputs": [],
   "source": [
    "# Get DataFrame information\n",
    "df.info()\n",
    "# Check for missing values\n",
    "df.isnull().sum()\n",
    "# Get descriptive statistics\n",
    "df.describe()\n"
   ]
  },
  {
   "cell_type": "markdown",
   "id": "39ade260-ff21-41a4-9975-5916775fbe58",
   "metadata": {},
   "source": [
    "## Data Cleaning and Preprocessing\n",
    "\n",
    "We will handle missing values and ensure that data types are appropriate for analysis.\n"
   ]
  },
  {
   "cell_type": "code",
   "execution_count": null,
   "id": "b5191ed9-11f4-4961-aecd-b619c6e7ad7b",
   "metadata": {},
   "outputs": [],
   "source": [
    "# Define numeric columns\n",
    "numeric_columns = [\n",
    "    'total_page_load_time_ms',\n",
    "    'ttfb_ms',\n",
    "    'content_download_time_ms',\n",
    "    'adjusted_dom_parsing_time_ms',\n",
    "    'adjusted_rendering_time_ms',\n",
    "    'adjusted_browser_processing_time_ms',\n",
    "    'first_paint_ms',\n",
    "    'first_contentful_paint_ms',\n",
    "    'total_transfer_size_bytes',\n",
    "]\n",
    "\n",
    "# Convert columns to numeric types\n",
    "for col in numeric_columns:\n",
    "    df[col] = pd.to_numeric(df[col], errors='coerce')\n",
    "\n",
    "# Drop rows with missing values in key metrics\n",
    "df.dropna(subset=numeric_columns, inplace=True)\n",
    "\n",
    "# Verify data types\n",
    "df[numeric_columns].dtypes\n"
   ]
  },
  {
   "cell_type": "markdown",
   "id": "dea212b2-40e0-4065-bfdf-b28f042ada52",
   "metadata": {},
   "source": [
    "## Exploratory Data Analysis (EDA)\n",
    "\n",
    "We will explore the data through descriptive statistics and visualizations to uncover patterns and insights.\n"
   ]
  },
  {
   "cell_type": "markdown",
   "id": "a6527dbf-b1d4-4b6a-92b8-82400e4a9e07",
   "metadata": {},
   "source": [
    "### Descriptive Statistics\n",
    "\n",
    "Let's compute descriptive statistics for the performance metrics.\n"
   ]
  },
  {
   "cell_type": "code",
   "execution_count": null,
   "id": "18a19310-3099-4690-8abe-e819ab9b6265",
   "metadata": {},
   "outputs": [],
   "source": [
    "# Compute descriptive statistics grouped by browser\n",
    "df.groupby('browser')[numeric_columns].describe().T\n"
   ]
  },
  {
   "cell_type": "markdown",
   "id": "dfbbf4f6-f13f-4284-b82a-98832db94bf2",
   "metadata": {},
   "source": [
    "### Visualizations\n",
    "\n",
    "We will create various plots to visualize and compare the performance metrics across browsers.\n"
   ]
  },
  {
   "cell_type": "markdown",
   "id": "2a7eb6f6-04a1-467f-b378-dc31f2930189",
   "metadata": {},
   "source": [
    "#### Comparative Box Plots\n",
    "\n",
    "Box plots allow us to compare the distribution of metrics across browsers.\n"
   ]
  },
  {
   "cell_type": "code",
   "execution_count": null,
   "id": "52238c89-5928-4593-8db7-02f5675174c9",
   "metadata": {},
   "outputs": [],
   "source": [
    "# List of metrics to plot\n",
    "metrics = [\n",
    "    'total_page_load_time_ms',\n",
    "    'ttfb_ms',\n",
    "    'content_download_time_ms',\n",
    "    'adjusted_dom_parsing_time_ms',\n",
    "    'adjusted_rendering_time_ms',\n",
    "    'adjusted_browser_processing_time_ms',\n",
    "    # Add other metrics as needed\n",
    "]\n",
    "\n",
    "for metric in metrics:\n",
    "    plt.figure(figsize=(8, 6))\n",
    "    sns.boxplot(data=df, x='browser', y=metric)\n",
    "    plt.title(f'Comparison of {metric.replace(\"_\", \" \").title()} Across Browsers')\n",
    "    plt.xlabel('Browser')\n",
    "    plt.ylabel(f'{metric.replace(\"_\", \" \").title()} (ms)')\n",
    "    plt.show()\n"
   ]
  },
  {
   "cell_type": "markdown",
   "id": "23a61dc1-cdf9-4d9a-b953-41a64bbda611",
   "metadata": {},
   "source": [
    "#### Violin Plots\n",
    "\n",
    "Violin plots show the distribution of the data and can highlight differences in the density of the metrics.\n"
   ]
  },
  {
   "cell_type": "code",
   "execution_count": null,
   "id": "7bdcbf63-3a71-489e-adcf-de3bce6aa68b",
   "metadata": {},
   "outputs": [],
   "source": [
    "for metric in metrics:\n",
    "    plt.figure(figsize=(8, 6))\n",
    "    sns.violinplot(data=df, x='browser', y=metric, inner='quartile')\n",
    "    plt.title(f'Distribution of {metric.replace(\"_\", \" \").title()} Across Browsers')\n",
    "    plt.xlabel('Browser')\n",
    "    plt.ylabel(f'{metric.replace(\"_\", \" \").title()} (ms)')\n",
    "    plt.show()\n"
   ]
  },
  {
   "cell_type": "markdown",
   "id": "138635dd-10c2-4058-9459-b95b62600dca",
   "metadata": {},
   "source": [
    "#### Grouped Bar Charts for Top Websites\n",
    "\n",
    "We will compare performance metrics for the top 10 websites based on average total page load time.\n"
   ]
  },
  {
   "cell_type": "code",
   "execution_count": null,
   "id": "996033e0-f134-4b70-8ba1-d3647ab7dfb3",
   "metadata": {},
   "outputs": [],
   "source": [
    "# Choose a metric\n",
    "metric = 'total_page_load_time_ms'\n",
    "\n",
    "# Get top N websites based on average metric\n",
    "top_n = 10\n",
    "top_sites = (\n",
    "    df.groupby('website')[metric]\n",
    "    .mean()\n",
    "    .sort_values(ascending=False)\n",
    "    .head(top_n)\n",
    "    .index\n",
    ")\n",
    "\n",
    "df_top_sites = df[df['website'].isin(top_sites)]\n",
    "\n",
    "plt.figure(figsize=(12, 8))\n",
    "sns.barplot(\n",
    "    x=metric,\n",
    "    y='website',\n",
    "    hue='browser',\n",
    "    data=df_top_sites,\n",
    "    orient='h'\n",
    ")\n",
    "plt.title(f'Comparison of {metric.replace(\"_\", \" \").title()} for Top {top_n} Websites')\n",
    "plt.xlabel(f'{metric.replace(\"_\", \" \").title()} (ms)')\n",
    "plt.ylabel('Website')\n",
    "plt.legend(title='Browser')\n",
    "plt.tight_layout()\n",
    "plt.show()\n"
   ]
  },
  {
   "cell_type": "markdown",
   "id": "2d81f010-cb55-4b87-97b9-c0a6ee342c25",
   "metadata": {},
   "source": [
    "#### Performance Difference Between Browsers\n",
    "\n",
    "We will calculate and visualize the difference in performance metrics between Chrome and Firefox for each website.\n"
   ]
  },
  {
   "cell_type": "code",
   "execution_count": null,
   "id": "706992aa-559a-4d5c-b3e0-e2c5880f6e5c",
   "metadata": {},
   "outputs": [],
   "source": [
    "# Pivot the DataFrame\n",
    "df_pivot = df.pivot_table(\n",
    "    index='website',\n",
    "    columns='browser',\n",
    "    values=metric\n",
    ").dropna()\n",
    "\n",
    "# Check if we have exactly two browsers\n",
    "if len(df['browser'].unique()) == 2:\n",
    "    browsers = df['browser'].unique()\n",
    "    browser_a, browser_b = browsers\n",
    "    df_pivot['difference'] = df_pivot[browser_a] - df_pivot[browser_b]\n",
    "    \n",
    "    # Sort by difference\n",
    "    df_pivot_sorted = df_pivot.sort_values('difference', ascending=False)\n",
    "    \n",
    "    # Plot the differences\n",
    "    plt.figure(figsize=(12, 8))\n",
    "    sns.barplot(\n",
    "        x='difference',\n",
    "        y=df_pivot_sorted.index,\n",
    "        data=df_pivot_sorted.reset_index(),\n",
    "        orient='h'\n",
    "    )\n",
    "    plt.title(f'Difference in {metric.replace(\"_\", \" \").title()} Between {browser_a} and {browser_b}')\n",
    "    plt.xlabel(f'Difference in {metric.replace(\"_\", \" \").title()} (ms)')\n",
    "    plt.ylabel('Website')\n",
    "    plt.axvline(0, color='grey', linestyle='--')\n",
    "    plt.tight_layout()\n",
    "    plt.show()\n",
    "else:\n",
    "    print(\"Performance difference plot requires exactly two browsers.\")\n"
   ]
  },
  {
   "cell_type": "markdown",
   "id": "2a1d092e-ed68-4dee-8fbd-cbe5f6562171",
   "metadata": {},
   "source": [
    "#### Correlation Heatmap\n",
    "\n",
    "A correlation heatmap helps us understand the relationships between different performance metrics.\n"
   ]
  },
  {
   "cell_type": "code",
   "execution_count": null,
   "id": "a85e2062-6c9e-4ac4-aea4-82a3ebcc228c",
   "metadata": {},
   "outputs": [],
   "source": [
    "# Select numeric columns\n",
    "numeric_cols = df.select_dtypes(include=['float64', 'int64']).columns\n",
    "\n",
    "# Compute correlation matrix\n",
    "corr = df[numeric_cols].corr()\n",
    "\n",
    "# Plot heatmap\n",
    "plt.figure(figsize=(12, 10))\n",
    "sns.heatmap(corr, annot=True, cmap='coolwarm')\n",
    "plt.title('Correlation Heatmap of Performance Metrics')\n",
    "plt.tight_layout()\n",
    "plt.show()\n"
   ]
  },
  {
   "cell_type": "markdown",
   "id": "e079c67f-2950-4b58-b030-ef6b97a2a69e",
   "metadata": {},
   "source": [
    "#### Scatter Plots with Regression Lines\n",
    "\n",
    "We will examine the relationship between total transfer size and adjusted browser processing time.\n"
   ]
  },
  {
   "cell_type": "code",
   "execution_count": null,
   "id": "2e71af3d-7778-4d9e-af12-5a7b4550441f",
   "metadata": {},
   "outputs": [],
   "source": [
    "x_metric = 'total_transfer_size_bytes'\n",
    "y_metric = 'adjusted_browser_processing_time_ms'\n",
    "\n",
    "sns.lmplot(\n",
    "    data=df,\n",
    "    x=x_metric,\n",
    "    y=y_metric,\n",
    "    hue='browser',\n",
    "    height=6,\n",
    "    aspect=1.5,\n",
    "    scatter_kws={'alpha':0.5}\n",
    ")\n",
    "plt.title(f'{y_metric.replace(\"_\", \" \").title()} vs {x_metric.replace(\"_\", \" \").title()}')\n",
    "plt.xlabel(f'{x_metric.replace(\"_\", \" \").title()}')\n",
    "plt.ylabel(f'{y_metric.replace(\"_\", \" \").title()}')\n",
    "plt.tight_layout()\n",
    "plt.show()\n"
   ]
  },
  {
   "cell_type": "markdown",
   "id": "5926973c-f133-47b0-90cb-79f15e52f174",
   "metadata": {},
   "source": [
    "## Conclusions and Next Steps\n",
    "\n",
    "**Summary of Findings:**\n",
    "\n",
    "- Based on the analysis, we observed that...\n",
    "\n",
    "*(Add your interpretations and key takeaways here.)*\n",
    "\n",
    "**Next Steps:**\n",
    "\n",
    "- Investigate further into...\n",
    "- Consider collecting additional data on...\n",
    "- Share these findings with the team for feedback and action.\n",
    "\n",
    "---\n",
    "\n",
    "**Note:** This notebook provides an initial analysis of the browser performance data. For ongoing monitoring and more advanced analyses, consider integrating a database solution and automating the reporting process.\n"
   ]
  }
 ],
 "metadata": {
  "kernelspec": {
   "display_name": "Python 3 (ipykernel)",
   "language": "python",
   "name": "python3"
  },
  "language_info": {
   "codemirror_mode": {
    "name": "ipython",
    "version": 3
   },
   "file_extension": ".py",
   "mimetype": "text/x-python",
   "name": "python",
   "nbconvert_exporter": "python",
   "pygments_lexer": "ipython3",
   "version": "3.11.0"
  }
 },
 "nbformat": 4,
 "nbformat_minor": 5
}
